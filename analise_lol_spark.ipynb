{
  "nbformat": 4,
  "nbformat_minor": 0,
  "metadata": {
    "colab": {
      "provenance": [],
      "authorship_tag": "ABX9TyP3XbGgEh5050v6uxlZqy6J",
      "include_colab_link": true
    },
    "kernelspec": {
      "name": "python3",
      "display_name": "Python 3"
    },
    "language_info": {
      "name": "python"
    }
  },
  "cells": [
    {
      "cell_type": "markdown",
      "metadata": {
        "id": "view-in-github",
        "colab_type": "text"
      },
      "source": [
        "<a href=\"https://colab.research.google.com/github/marcojrr/Projetos/blob/main/analise_lol_spark.ipynb\" target=\"_parent\"><img src=\"https://colab.research.google.com/assets/colab-badge.svg\" alt=\"Open In Colab\"/></a>"
      ]
    },
    {
      "cell_type": "code",
      "execution_count": 3,
      "metadata": {
        "id": "eVjMwksx2u09"
      },
      "outputs": [],
      "source": [
        "from pyspark.sql import SparkSession\n",
        "\n",
        "spark = (SparkSession.builder\n",
        "         .appName(\"Introdução à análise de dados com PySpark utilizando os dados dos campeões do LOL\")\n",
        "        .getOrCreate()\n",
        "        )"
      ]
    },
    {
      "cell_type": "code",
      "source": [
        "import requests\n",
        "\n",
        "response=requests.get(\n",
        "\"https://ddragon.leagueoflegends.com/cdn/12.17.1/data/pt_BR/champion.json\")\n",
        "\n",
        "champions=response.json().get(\"data\")\n",
        "champions.keys()"
      ],
      "metadata": {
        "colab": {
          "base_uri": "https://localhost:8080/"
        },
        "id": "XxjJdA_l21F9",
        "outputId": "748e2a8f-ffe7-414b-ac78-a97ed2e20459"
      },
      "execution_count": 5,
      "outputs": [
        {
          "output_type": "execute_result",
          "data": {
            "text/plain": [
              "dict_keys(['Aatrox', 'Ahri', 'Akali', 'Akshan', 'Alistar', 'Amumu', 'Anivia', 'Annie', 'Aphelios', 'Ashe', 'AurelionSol', 'Azir', 'Bard', 'Belveth', 'Blitzcrank', 'Brand', 'Braum', 'Caitlyn', 'Camille', 'Cassiopeia', 'Chogath', 'Corki', 'Darius', 'Diana', 'Draven', 'DrMundo', 'Ekko', 'Elise', 'Evelynn', 'Ezreal', 'Fiddlesticks', 'Fiora', 'Fizz', 'Galio', 'Gangplank', 'Garen', 'Gnar', 'Gragas', 'Graves', 'Gwen', 'Hecarim', 'Heimerdinger', 'Illaoi', 'Irelia', 'Ivern', 'Janna', 'JarvanIV', 'Jax', 'Jayce', 'Jhin', 'Jinx', 'Kaisa', 'Kalista', 'Karma', 'Karthus', 'Kassadin', 'Katarina', 'Kayle', 'Kayn', 'Kennen', 'Khazix', 'Kindred', 'Kled', 'KogMaw', 'Leblanc', 'LeeSin', 'Leona', 'Lillia', 'Lissandra', 'Lucian', 'Lulu', 'Lux', 'Malphite', 'Malzahar', 'Maokai', 'MasterYi', 'MissFortune', 'MonkeyKing', 'Mordekaiser', 'Morgana', 'Nami', 'Nasus', 'Nautilus', 'Neeko', 'Nidalee', 'Nilah', 'Nocturne', 'Nunu', 'Olaf', 'Orianna', 'Ornn', 'Pantheon', 'Poppy', 'Pyke', 'Qiyana', 'Quinn', 'Rakan', 'Rammus', 'RekSai', 'Rell', 'Renata', 'Renekton', 'Rengar', 'Riven', 'Rumble', 'Ryze', 'Samira', 'Sejuani', 'Senna', 'Seraphine', 'Sett', 'Shaco', 'Shen', 'Shyvana', 'Singed', 'Sion', 'Sivir', 'Skarner', 'Sona', 'Soraka', 'Swain', 'Sylas', 'Syndra', 'TahmKench', 'Taliyah', 'Talon', 'Taric', 'Teemo', 'Thresh', 'Tristana', 'Trundle', 'Tryndamere', 'TwistedFate', 'Twitch', 'Udyr', 'Urgot', 'Varus', 'Vayne', 'Veigar', 'Velkoz', 'Vex', 'Vi', 'Viego', 'Viktor', 'Vladimir', 'Volibear', 'Warwick', 'Xayah', 'Xerath', 'XinZhao', 'Yasuo', 'Yone', 'Yorick', 'Yuumi', 'Zac', 'Zed', 'Zeri', 'Ziggs', 'Zilean', 'Zoe', 'Zyra'])"
            ]
          },
          "metadata": {},
          "execution_count": 5
        }
      ]
    },
    {
      "cell_type": "code",
      "source": [
        "champions.get('Akali')"
      ],
      "metadata": {
        "colab": {
          "base_uri": "https://localhost:8080/"
        },
        "id": "ooCD8-gh3Y5E",
        "outputId": "63f1c522-83a1-4cf9-cc02-b32654470b7d"
      },
      "execution_count": 6,
      "outputs": [
        {
          "output_type": "execute_result",
          "data": {
            "text/plain": [
              "{'version': '12.17.1',\n",
              " 'id': 'Akali',\n",
              " 'key': '84',\n",
              " 'name': 'Akali',\n",
              " 'title': 'a Assassina Renegada',\n",
              " 'blurb': 'Abandonando a Ordem Kinkou e seu título de Punho das Sombras, Akali agora ataca sozinha, pronta para ser a arma mortal que seu povo precisa. Embora ela mantenha tudo o que aprendeu com seu mestre Shen, ela se comprometeu a defender Ionia de seus...',\n",
              " 'info': {'attack': 5, 'defense': 3, 'magic': 8, 'difficulty': 7},\n",
              " 'image': {'full': 'Akali.png',\n",
              "  'sprite': 'champion0.png',\n",
              "  'group': 'champion',\n",
              "  'x': 96,\n",
              "  'y': 0,\n",
              "  'w': 48,\n",
              "  'h': 48},\n",
              " 'tags': ['Assassin'],\n",
              " 'partype': 'Energia',\n",
              " 'stats': {'hp': 570,\n",
              "  'hpperlevel': 119,\n",
              "  'mp': 200,\n",
              "  'mpperlevel': 0,\n",
              "  'movespeed': 345,\n",
              "  'armor': 23,\n",
              "  'armorperlevel': 4.7,\n",
              "  'spellblock': 37,\n",
              "  'spellblockperlevel': 2.05,\n",
              "  'attackrange': 125,\n",
              "  'hpregen': 9,\n",
              "  'hpregenperlevel': 0.9,\n",
              "  'mpregen': 50,\n",
              "  'mpregenperlevel': 0,\n",
              "  'crit': 0,\n",
              "  'critperlevel': 0,\n",
              "  'attackdamage': 62,\n",
              "  'attackdamageperlevel': 3.3,\n",
              "  'attackspeedperlevel': 3.2,\n",
              "  'attackspeed': 0.625}}"
            ]
          },
          "metadata": {},
          "execution_count": 6
        }
      ]
    },
    {
      "cell_type": "code",
      "source": [
        "champions = [{'name': value['name'], 'title': value['title'], **value['info'], **value['stats']} for key, value in champions.items()]\n",
        "champions[2]"
      ],
      "metadata": {
        "colab": {
          "base_uri": "https://localhost:8080/"
        },
        "id": "UA1v5ZnT3ckL",
        "outputId": "749f8158-e1bc-41ce-fa52-8c6b2d153a23"
      },
      "execution_count": 7,
      "outputs": [
        {
          "output_type": "execute_result",
          "data": {
            "text/plain": [
              "{'name': 'Akali',\n",
              " 'title': 'a Assassina Renegada',\n",
              " 'attack': 5,\n",
              " 'defense': 3,\n",
              " 'magic': 8,\n",
              " 'difficulty': 7,\n",
              " 'hp': 570,\n",
              " 'hpperlevel': 119,\n",
              " 'mp': 200,\n",
              " 'mpperlevel': 0,\n",
              " 'movespeed': 345,\n",
              " 'armor': 23,\n",
              " 'armorperlevel': 4.7,\n",
              " 'spellblock': 37,\n",
              " 'spellblockperlevel': 2.05,\n",
              " 'attackrange': 125,\n",
              " 'hpregen': 9,\n",
              " 'hpregenperlevel': 0.9,\n",
              " 'mpregen': 50,\n",
              " 'mpregenperlevel': 0,\n",
              " 'crit': 0,\n",
              " 'critperlevel': 0,\n",
              " 'attackdamage': 62,\n",
              " 'attackdamageperlevel': 3.3,\n",
              " 'attackspeedperlevel': 3.2,\n",
              " 'attackspeed': 0.625}"
            ]
          },
          "metadata": {},
          "execution_count": 7
        }
      ]
    },
    {
      "cell_type": "code",
      "source": [
        "import pandas as pd\n",
        "\n",
        "\n",
        "df = spark.createDataFrame(pd.DataFrame(champions))\n",
        "\n",
        "df.select('name', 'title').show(10, False)"
      ],
      "metadata": {
        "colab": {
          "base_uri": "https://localhost:8080/"
        },
        "id": "NandSBo83ea1",
        "outputId": "0c63f4e8-4e7b-4424-f037-bec2d04f468a"
      },
      "execution_count": 17,
      "outputs": [
        {
          "output_type": "stream",
          "name": "stdout",
          "text": [
            "+--------+-----------------------+\n",
            "|name    |title                  |\n",
            "+--------+-----------------------+\n",
            "|Aatrox  |a Espada Darkin        |\n",
            "|Ahri    |a Raposa de Nove Caudas|\n",
            "|Akali   |a Assassina Renegada   |\n",
            "|Akshan  |o Sentinela Rebelde    |\n",
            "|Alistar |o Minotauro            |\n",
            "|Amumu   |a Múmia Triste         |\n",
            "|Anivia  |a Criofênix            |\n",
            "|Annie   |a Criança Sombria      |\n",
            "|Aphelios|a Arma dos Devotos     |\n",
            "|Ashe    |a Arqueira do Gelo     |\n",
            "+--------+-----------------------+\n",
            "only showing top 10 rows\n",
            "\n"
          ]
        }
      ]
    },
    {
      "cell_type": "code",
      "source": [
        "from pyspark.sql import functions as F\n",
        "\n",
        "df = df.withColumn('full_name', F.concat(df.name, F.lit(', '), df.title))\n",
        "\n",
        "df.select('full_name').show(10, False)"
      ],
      "metadata": {
        "colab": {
          "base_uri": "https://localhost:8080/"
        },
        "id": "3dR7ZE-93gNo",
        "outputId": "e905dfcc-3db0-4ceb-81e9-38d91ef30df1"
      },
      "execution_count": 19,
      "outputs": [
        {
          "output_type": "stream",
          "name": "stdout",
          "text": [
            "+-----------------------------+\n",
            "|full_name                    |\n",
            "+-----------------------------+\n",
            "|Aatrox, a Espada Darkin      |\n",
            "|Ahri, a Raposa de Nove Caudas|\n",
            "|Akali, a Assassina Renegada  |\n",
            "|Akshan, o Sentinela Rebelde  |\n",
            "|Alistar, o Minotauro         |\n",
            "|Amumu, a Múmia Triste        |\n",
            "|Anivia, a Criofênix          |\n",
            "|Annie, a Criança Sombria     |\n",
            "|Aphelios, a Arma dos Devotos |\n",
            "|Ashe, a Arqueira do Gelo     |\n",
            "+-----------------------------+\n",
            "only showing top 10 rows\n",
            "\n"
          ]
        }
      ]
    },
    {
      "cell_type": "code",
      "source": [
        "base_columns = ['attackdamage', 'armor', 'hp', 'mp']\n",
        "\n",
        "(df.orderBy(*base_columns, ascending=False)\n",
        "  .select('full_name', *base_columns)\n",
        "  .show(10, False)\n",
        "  )"
      ],
      "metadata": {
        "colab": {
          "base_uri": "https://localhost:8080/"
        },
        "id": "x2Mo5LSR4isd",
        "outputId": "f64569b5-8a92-4078-f086-8385f798bafd"
      },
      "execution_count": 20,
      "outputs": [
        {
          "output_type": "stream",
          "name": "stdout",
          "text": [
            "+---------------------------------+------------+-----+-----+-----+\n",
            "|full_name                        |attackdamage|armor|hp   |mp   |\n",
            "+---------------------------------+------------+-----+-----+-----+\n",
            "|Tryndamere, o Rei Bárbaro        |72.0        |33   |696.0|100.0|\n",
            "|Cho'Gath, o Terror do Vazio      |69.0        |38   |644.0|270.0|\n",
            "|Renekton, o Carniceiro das Areias|69.0        |35   |660.0|100.0|\n",
            "|Ornn, O Fogo sob a Montanha      |69.0        |33   |660.0|340.6|\n",
            "|Kayn, o Ceifador das Sombras     |68.0        |38   |655.0|410.0|\n",
            "|Trundle, o Rei dos Trolls        |68.0        |37   |686.0|281.0|\n",
            "|Jax, o Grão-Mestre das Armas     |68.0        |36   |685.0|339.0|\n",
            "|Lee Sin, o Monge Cego            |68.0        |36   |645.0|200.0|\n",
            "|Illaoi, a Sacerdotisa Cráquem    |68.0        |35   |656.0|300.0|\n",
            "|Camille, a Sombra de Aço         |68.0        |35   |646.0|339.0|\n",
            "+---------------------------------+------------+-----+-----+-----+\n",
            "only showing top 10 rows\n",
            "\n"
          ]
        }
      ]
    },
    {
      "cell_type": "code",
      "source": [
        "level = 10\n",
        "\n",
        "df2 = df.withColumns({\n",
        "    'attackdamage': df.attackdamage + df.attackdamageperlevel * level,\n",
        "    'armor': df.armor + df.armorperlevel * level,\n",
        "    'hp': df.hp + df.hpperlevel * level,\n",
        "    'mp': df.mp + df.mpperlevel * level\n",
        "})"
      ],
      "metadata": {
        "id": "RiHOCMo95x6k"
      },
      "execution_count": 21,
      "outputs": []
    },
    {
      "cell_type": "code",
      "source": [
        "(df2.orderBy(*base_columns, ascending=False)\n",
        " .select('full_name', *base_columns)\n",
        " .show(10, False)\n",
        " )"
      ],
      "metadata": {
        "colab": {
          "base_uri": "https://localhost:8080/"
        },
        "id": "s_H8SahN61k3",
        "outputId": "7214973a-e988-451b-f2ba-ac11b24a7c4a"
      },
      "execution_count": 23,
      "outputs": [
        {
          "output_type": "stream",
          "name": "stdout",
          "text": [
            "+---------------------------------+------------+-----+------+-----+\n",
            "|full_name                        |attackdamage|armor|hp    |mp   |\n",
            "+---------------------------------+------------+-----+------+-----+\n",
            "|Illaoi, a Sacerdotisa Cráquem    |118.0       |85.0 |1746.0|800.0|\n",
            "|Olaf, o Berserker                |115.0       |77.0 |1835.0|816.0|\n",
            "|Darius, a Mão de Noxus           |114.0       |91.0 |1792.0|838.0|\n",
            "|Yorick, o Pastor de Almas        |112.0       |91.0 |1790.0|900.0|\n",
            "|Cho'Gath, o Terror do Vazio      |111.0       |85.0 |1584.0|870.0|\n",
            "|Garen, o Poder de Demacia        |111.0       |78.0 |1670.0|0.0  |\n",
            "|Renekton, o Carniceiro das Areias|110.5       |87.0 |1770.0|100.0|\n",
            "|Jax, o Grão-Mestre das Armas     |110.5       |78.0 |1675.0|859.0|\n",
            "|Skarner, a Vanguarda de Cristal  |110.0       |88.0 |1640.0|920.0|\n",
            "|Aatrox, a Espada Darkin          |110.0       |82.5 |1790.0|0.0  |\n",
            "+---------------------------------+------------+-----+------+-----+\n",
            "only showing top 10 rows\n",
            "\n"
          ]
        }
      ]
    },
    {
      "cell_type": "code",
      "source": [
        "level = 18\n",
        "\n",
        "df3 = df.withColumns({\n",
        "    'attackdamage': df.attackdamage + df.attackdamageperlevel * level,\n",
        "    'armor': df.armor + df.armorperlevel * level,\n",
        "    'hp': df.hp + df.hpperlevel * level,\n",
        "    'mp': df.mp + df.mpperlevel * level\n",
        "})"
      ],
      "metadata": {
        "id": "4TajUGGx7M8y"
      },
      "execution_count": 24,
      "outputs": []
    },
    {
      "cell_type": "code",
      "source": [
        "(df3.orderBy(*base_columns, ascending=False)\n",
        " .select('full_name', *base_columns)\n",
        " .show(10, False)\n",
        " )"
      ],
      "metadata": {
        "colab": {
          "base_uri": "https://localhost:8080/"
        },
        "id": "qESGWPj87f7O",
        "outputId": "b16d21d3-6f01-4489-85a7-4986b8a9ba31"
      },
      "execution_count": 26,
      "outputs": [
        {
          "output_type": "stream",
          "name": "stdout",
          "text": [
            "+---------------------------------+------------------+------------------+------+------+\n",
            "|full_name                        |attackdamage      |armor             |hp    |mp    |\n",
            "+---------------------------------+------------------+------------------+------+------+\n",
            "|Illaoi, a Sacerdotisa Cráquem    |158.0             |125.0             |2618.0|1200.0|\n",
            "|Darius, a Mão de Noxus           |154.0             |132.60000000000002|2704.0|1298.0|\n",
            "|Olaf, o Berserker                |152.60000000000002|110.60000000000001|2787.0|1216.0|\n",
            "|Yorick, o Pastor de Almas        |152.0             |132.60000000000002|2702.0|1380.0|\n",
            "|Aatrox, a Espada Darkin          |150.0             |118.10000000000001|2702.0|0.0   |\n",
            "|Garen, o Poder de Demacia        |147.0             |111.60000000000001|2454.0|0.0   |\n",
            "|Skarner, a Vanguarda de Cristal  |146.0             |128.0             |2432.0|1400.0|\n",
            "|Cho'Gath, o Terror do Vazio      |144.60000000000002|122.60000000000001|2336.0|1350.0|\n",
            "|Jax, o Grão-Mestre das Armas     |144.5             |111.60000000000001|2467.0|1275.0|\n",
            "|Renekton, o Carniceiro das Areias|143.7             |128.60000000000002|2658.0|100.0 |\n",
            "+---------------------------------+------------------+------------------+------+------+\n",
            "only showing top 10 rows\n",
            "\n"
          ]
        }
      ]
    },
    {
      "cell_type": "code",
      "source": [
        "(df2.agg({\n",
        "    'attackdamage': 'mean',\n",
        "    'hp': 'max',\n",
        "    'mp': 'max',\n",
        "    'armor': 'min'\n",
        "})\n",
        "    .show()\n",
        " )"
      ],
      "metadata": {
        "colab": {
          "base_uri": "https://localhost:8080/"
        },
        "id": "u92Rygfh7uVv",
        "outputId": "d6685f48-47d0-4063-9e80-c4c5ace98325"
      },
      "execution_count": 27,
      "outputs": [
        {
          "output_type": "stream",
          "name": "stdout",
          "text": [
            "+-------+----------+-----------------+-------+\n",
            "|max(mp)|min(armor)|avg(attackdamage)|max(hp)|\n",
            "+-------+----------+-----------------+-------+\n",
            "|10000.0|      28.0|91.40481987577641| 1892.0|\n",
            "+-------+----------+-----------------+-------+\n",
            "\n"
          ]
        }
      ]
    },
    {
      "cell_type": "code",
      "source": [
        "df2.filter(df2.mp == 10000).show()"
      ],
      "metadata": {
        "colab": {
          "base_uri": "https://localhost:8080/"
        },
        "id": "dfKvCIL98XP_",
        "outputId": "f5a1f6a3-65f2-4690-ba5a-a8aa96d905a5"
      },
      "execution_count": 31,
      "outputs": [
        {
          "output_type": "stream",
          "name": "stdout",
          "text": [
            "+-----+---------------+------+-------+-----+----------+------+----------+-------+----------+---------+-----+-------------+----------+------------------+-----------+-------+---------------+-------+---------------+----+------------+------------+--------------------+-------------------+-----------+--------------------+\n",
            "| name|          title|attack|defense|magic|difficulty|    hp|hpperlevel|     mp|mpperlevel|movespeed|armor|armorperlevel|spellblock|spellblockperlevel|attackrange|hpregen|hpregenperlevel|mpregen|mpregenperlevel|crit|critperlevel|attackdamage|attackdamageperlevel|attackspeedperlevel|attackspeed|           full_name|\n",
            "+-----+---------------+------+-------+-----+----------+------+----------+-------+----------+---------+-----+-------------+----------+------------------+-----------+-------+---------------+-------+---------------+----+------------+------------+--------------------+-------------------+-----------+--------------------+\n",
            "|Viego|O Rei Destruído|     6|      4|    2|         5|1720.0|       109|10000.0|       0.0|      345| 86.0|          5.2|      32.0|              2.05|        200|    7.0|            0.7|    0.0|            0.0|   0|           0|        92.0|                 3.5|                2.5|      0.658|Viego, O Rei Dest...|\n",
            "+-----+---------------+------+-------+-----+----------+------+----------+-------+----------+---------+-----+-------------+----------+------------------+-----------+-------+---------------+-------+---------------+----+------------+------------+--------------------+-------------------+-----------+--------------------+\n",
            "\n"
          ]
        }
      ]
    }
  ]
}